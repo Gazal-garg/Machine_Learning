{
 "cells": [
  {
   "cell_type": "markdown",
   "metadata": {
    "colab_type": "text",
    "id": "TbwCOSBhwl34"
   },
   "source": [
    "#Bayes' Theorem \n",
    "\n",
    "It is said that the Reverend Thomas Bayes developed his rule on inverse probability while he was trying to prove the existence of God somewhere around 1740. He came up with a method for calculating the probability of an event occurring given that another event has occurred. Starting out with the prior probability (or believe) $P(A)$, when given a likelihood) $P(B\\ |\\ A)$ and evidence $P(B)$ we arrive at the posterior probability $P(A\\ |\\ B)$. Bayes Rule proves to be a powerful tool and is widely used in diverging areas like economics, artificial intelligence, medicine, journalism, military, just to name a few. Most spam filters use Bayes Rule in one way or another. The Bayes' Theorem formula is, posterior = likelihood times prior, over evidence:\n",
    "\n",
    "$$\n",
    "P(A\\ |\\ B)=\\frac{P(B\\ |\\ A)\\cdot P(A)}{P(B)}\n",
    "$$\n",
    "The practical power of Bayes Rule is that we often can't find the posterior directly, yet we do know the likelihood of the test and $P(A)$."
   ]
  },
  {
   "cell_type": "code",
   "execution_count": 0,
   "metadata": {
    "colab": {
     "base_uri": "https://localhost:8080/",
     "height": 34
    },
    "colab_type": "code",
    "executionInfo": {
     "elapsed": 1582,
     "status": "ok",
     "timestamp": 1587554541454,
     "user": {
      "displayName": "Nitish Singh",
      "photoUrl": "https://lh3.googleusercontent.com/a-/AOh14GgsD-bEFSSQAb_5OYIU_Ra66nCg6YgWsCFgxpZLlw=s64",
      "userId": "06740764288798839139"
     },
     "user_tz": -330
    },
    "id": "JiJqw-8Gn27q",
    "outputId": "3d51bb9a-3b8f-4124-bbd7-499adac2e30f"
   },
   "outputs": [
    {
     "name": "stdout",
     "output_type": "stream",
     "text": [
      "----------------------------------------------------------------------------------------------------\n"
     ]
    }
   ],
   "source": [
    "print(\"-\"*100)"
   ]
  },
  {
   "cell_type": "markdown",
   "metadata": {
    "colab_type": "text",
    "id": "Pt-CNCwbsgIr"
   },
   "source": [
    "\n",
    "\n",
    "\n",
    "\n",
    "Q1- What is the chance of someone having COPD (a life-threatening lung disease) given he or she is a smoker - $P(A|B)$. This statistic is hard to figure out, but we do know from medical studies the probability of someone being a smoker given that he/she has COPD - $P(B|A)$. We also know $P(B)$ - the probability that a person is a smoker and $P(A)$ - the chance that someone has COPD. The figures below are rough estimations:\n",
    "\n",
    "$$\n",
    "P(A)=0.07\\ \\small{having\\ COPD}\\\\\n",
    "P(B)=0.18\\ \\small{smokers}\\\\\n",
    "P(B\\ |\\ A)=0.85\\ \\small{is\\ or\\ was\\ smoker\\ and\\ given\\ COPD\\ diagnosis}\n",
    "$$\n"
   ]
  },
  {
   "cell_type": "code",
   "execution_count": 0,
   "metadata": {
    "colab": {},
    "colab_type": "code",
    "id": "zL06pf9CwJcM"
   },
   "outputs": [],
   "source": [
    "#Q1- Now Answer- What is the probability of someone having COPD given the person is or was a smoker?:"
   ]
  },
  {
   "cell_type": "code",
   "execution_count": 23,
   "metadata": {
    "colab": {},
    "colab_type": "code",
    "id": "L5Yub66Tsg5j"
   },
   "outputs": [],
   "source": [
    "#import packages\n",
    "import numpy as np\n",
    "import pandas as pd"
   ]
  },
  {
   "cell_type": "code",
   "execution_count": 24,
   "metadata": {
    "colab": {},
    "colab_type": "code",
    "id": "wRtFE-zJvYYk"
   },
   "outputs": [
    {
     "name": "stdout",
     "output_type": "stream",
     "text": [
      "<class 'pandas.core.frame.DataFrame'>\n",
      "RangeIndex: 2914 entries, 0 to 2913\n",
      "Data columns (total 3 columns):\n",
      "patient_id     2914 non-null int64\n",
      "test_result    2914 non-null object\n",
      "has_cancer     2914 non-null bool\n",
      "dtypes: bool(1), int64(1), object(1)\n",
      "memory usage: 48.5+ KB\n"
     ]
    }
   ],
   "source": [
    "# load dataset\n",
    "df = pd.read_csv(r\"C:\\Users\\Gazal\\Downloads\\cancer_test_data.csv\")\n",
    "df.info()"
   ]
  },
  {
   "cell_type": "markdown",
   "metadata": {
    "colab_type": "text",
    "id": "ewBwa6its0KQ"
   },
   "source": [
    "<a href='https://drive.google.com/open?id=1ygFo91YMrHECMX9g0XKq3flK9XepdHex'> Data Set Link 1</a>   Drive\n",
    "\n"
   ]
  },
  {
   "cell_type": "code",
   "execution_count": 25,
   "metadata": {},
   "outputs": [
    {
     "name": "stdout",
     "output_type": "stream",
     "text": [
      "Probability of someone having COPD given that the person is or was a smoker 0.3305555555555556\n"
     ]
    }
   ],
   "source": [
    "pA=0.07\n",
    "pB=0.18\n",
    "pBA=0.85\n",
    "pAB=((pBA*pA)/pB)\n",
    "print(\"Probability of someone having COPD given that the person is or was a smoker\",pAB)"
   ]
  },
  {
   "cell_type": "code",
   "execution_count": 26,
   "metadata": {},
   "outputs": [
    {
     "data": {
      "text/html": [
       "<div>\n",
       "<style scoped>\n",
       "    .dataframe tbody tr th:only-of-type {\n",
       "        vertical-align: middle;\n",
       "    }\n",
       "\n",
       "    .dataframe tbody tr th {\n",
       "        vertical-align: top;\n",
       "    }\n",
       "\n",
       "    .dataframe thead th {\n",
       "        text-align: right;\n",
       "    }\n",
       "</style>\n",
       "<table border=\"1\" class=\"dataframe\">\n",
       "  <thead>\n",
       "    <tr style=\"text-align: right;\">\n",
       "      <th></th>\n",
       "      <th>patient_id</th>\n",
       "      <th>test_result</th>\n",
       "      <th>has_cancer</th>\n",
       "    </tr>\n",
       "  </thead>\n",
       "  <tbody>\n",
       "    <tr>\n",
       "      <td>0</td>\n",
       "      <td>79452</td>\n",
       "      <td>Negative</td>\n",
       "      <td>False</td>\n",
       "    </tr>\n",
       "    <tr>\n",
       "      <td>1</td>\n",
       "      <td>81667</td>\n",
       "      <td>Positive</td>\n",
       "      <td>True</td>\n",
       "    </tr>\n",
       "    <tr>\n",
       "      <td>2</td>\n",
       "      <td>76297</td>\n",
       "      <td>Negative</td>\n",
       "      <td>False</td>\n",
       "    </tr>\n",
       "    <tr>\n",
       "      <td>3</td>\n",
       "      <td>36593</td>\n",
       "      <td>Negative</td>\n",
       "      <td>False</td>\n",
       "    </tr>\n",
       "    <tr>\n",
       "      <td>4</td>\n",
       "      <td>53717</td>\n",
       "      <td>Negative</td>\n",
       "      <td>False</td>\n",
       "    </tr>\n",
       "    <tr>\n",
       "      <td>...</td>\n",
       "      <td>...</td>\n",
       "      <td>...</td>\n",
       "      <td>...</td>\n",
       "    </tr>\n",
       "    <tr>\n",
       "      <td>2909</td>\n",
       "      <td>39378</td>\n",
       "      <td>Negative</td>\n",
       "      <td>False</td>\n",
       "    </tr>\n",
       "    <tr>\n",
       "      <td>2910</td>\n",
       "      <td>58684</td>\n",
       "      <td>Negative</td>\n",
       "      <td>False</td>\n",
       "    </tr>\n",
       "    <tr>\n",
       "      <td>2911</td>\n",
       "      <td>64038</td>\n",
       "      <td>Negative</td>\n",
       "      <td>False</td>\n",
       "    </tr>\n",
       "    <tr>\n",
       "      <td>2912</td>\n",
       "      <td>61290</td>\n",
       "      <td>Positive</td>\n",
       "      <td>False</td>\n",
       "    </tr>\n",
       "    <tr>\n",
       "      <td>2913</td>\n",
       "      <td>75721</td>\n",
       "      <td>Positive</td>\n",
       "      <td>False</td>\n",
       "    </tr>\n",
       "  </tbody>\n",
       "</table>\n",
       "<p>2914 rows × 3 columns</p>\n",
       "</div>"
      ],
      "text/plain": [
       "      patient_id test_result  has_cancer\n",
       "0          79452    Negative       False\n",
       "1          81667    Positive        True\n",
       "2          76297    Negative       False\n",
       "3          36593    Negative       False\n",
       "4          53717    Negative       False\n",
       "...          ...         ...         ...\n",
       "2909       39378    Negative       False\n",
       "2910       58684    Negative       False\n",
       "2911       64038    Negative       False\n",
       "2912       61290    Positive       False\n",
       "2913       75721    Positive       False\n",
       "\n",
       "[2914 rows x 3 columns]"
      ]
     },
     "execution_count": 26,
     "metadata": {},
     "output_type": "execute_result"
    }
   ],
   "source": [
    "df"
   ]
  },
  {
   "cell_type": "code",
   "execution_count": 27,
   "metadata": {
    "colab": {},
    "colab_type": "code",
    "id": "-hzLnvE-vgPx"
   },
   "outputs": [
    {
     "name": "stdout",
     "output_type": "stream",
     "text": [
      "Total Patient 2914\n"
     ]
    },
    {
     "data": {
      "text/plain": [
       "False    2608\n",
       "True      306\n",
       "Name: has_cancer, dtype: int64"
      ]
     },
     "execution_count": 27,
     "metadata": {},
     "output_type": "execute_result"
    }
   ],
   "source": [
    "#Q2- What proportion of patients who tested positive has cancer?\n",
    "total_patient=df.shape[0]\n",
    "print(\"Total Patient\",total_patient)\n",
    "df['has_cancer'].value_counts()\n",
    "\n"
   ]
  },
  {
   "cell_type": "code",
   "execution_count": 40,
   "metadata": {},
   "outputs": [
    {
     "data": {
      "text/plain": [
       "2608"
      ]
     },
     "execution_count": 40,
     "metadata": {},
     "output_type": "execute_result"
    }
   ],
   "source": [
    "has_Cancerhc=df['has_cancer'].value_counts()[1]\n",
    "has_Cancerhc\n",
    "has_noCancer=df['has_cancer'].value_counts()[0]\n",
    "has_noCancer\n"
   ]
  },
  {
   "cell_type": "code",
   "execution_count": 29,
   "metadata": {},
   "outputs": [
    {
     "data": {
      "text/plain": [
       "2106"
      ]
     },
     "execution_count": 29,
     "metadata": {},
     "output_type": "execute_result"
    }
   ],
   "source": [
    "df['test_result'].value_counts()\n",
    "test_positive=df['test_result'].value_counts()[1]\n",
    "test_positive\n",
    "test_negative=df['test_result'].value_counts()[0]\n",
    "test_negative"
   ]
  },
  {
   "cell_type": "code",
   "execution_count": 41,
   "metadata": {},
   "outputs": [
    {
     "name": "stdout",
     "output_type": "stream",
     "text": [
      "patient having cancer 306\n",
      "patient who does not have cancer 2608\n",
      "patient tested positive 808\n",
      "patient tested negative 2106\n"
     ]
    }
   ],
   "source": [
    "print(\"patient having cancer\",has_Cancerhc)\n",
    "print(\"patient who does not have cancer\",has_noCancer)\n",
    "print(\"patient tested positive\",test_positive)\n",
    "print(\"patient tested negative\",test_negative)"
   ]
  },
  {
   "cell_type": "code",
   "execution_count": 42,
   "metadata": {},
   "outputs": [
    {
     "name": "stdout",
     "output_type": "stream",
     "text": [
      "Proportion of patients who tested positive has cancer is:  0.343\n"
     ]
    }
   ],
   "source": [
    "#Considering A= Patient who have Cancer and B= Patient who tested Positive\n",
    "TA=has_Cancerhc\n",
    "TB=test_positive\n",
    "Total=total_patient\n",
    "TAinterscetionB=df[(df[\"test_result\"] == \"Positive\") & (df[\"has_cancer\"] == True)].shape[0]\n",
    "PTAinterscetionB=TAinterscetionB/Total\n",
    "PB=TB/Total\n",
    "PAB=PTAinterscetionB/PB\n",
    "PAB\n",
    "print(\"Proportion of patients who tested positive has cancer is: \",str(round(PAB,3)))"
   ]
  },
  {
   "cell_type": "code",
   "execution_count": 43,
   "metadata": {
    "colab": {},
    "colab_type": "code",
    "id": "6wzcxUD9vmt4"
   },
   "outputs": [],
   "source": [
    "#Q3- What proportion of patients who tested positive doesn't have cancer?"
   ]
  },
  {
   "cell_type": "code",
   "execution_count": 45,
   "metadata": {},
   "outputs": [
    {
     "name": "stdout",
     "output_type": "stream",
     "text": [
      "Proportion of patients who tested positive doesn't have cancer is:  0.657\n"
     ]
    }
   ],
   "source": [
    "#Considering A= Patient who doesn't have Cancer and B= Patient who tested Positive\n",
    "TA=has_noCancer\n",
    "TB=test_positive\n",
    "Total=total_patient\n",
    "TAinterscetionB=df[(df[\"test_result\"] == \"Positive\") & (df[\"has_cancer\"] == False)].shape[0]\n",
    "PTAinterscetionB=TAinterscetionB/Total\n",
    "PB=TB/Total\n",
    "PAB=PTAinterscetionB/PB\n",
    "PAB\n",
    "print(\"Proportion of patients who tested positive doesn't have cancer is: \",str(round(PAB,3)))"
   ]
  },
  {
   "cell_type": "code",
   "execution_count": 0,
   "metadata": {
    "colab": {},
    "colab_type": "code",
    "id": "tniJH4yLvrGj"
   },
   "outputs": [],
   "source": [
    "#Q4- What proportion of patients who tested negative has cancer?"
   ]
  },
  {
   "cell_type": "code",
   "execution_count": 47,
   "metadata": {},
   "outputs": [
    {
     "name": "stdout",
     "output_type": "stream",
     "text": [
      "Proportion of patients who tested negative has cancer is:  0.014\n"
     ]
    }
   ],
   "source": [
    "#Considering A= Patient who have Cancer and B= Patient who tested Negative\n",
    "TA=has_Cancerhc\n",
    "TB=test_negative\n",
    "Total=total_patient\n",
    "TAinterscetionB=df[(df[\"test_result\"] == \"Negative\") & (df[\"has_cancer\"] == True)].shape[0]\n",
    "PTAinterscetionB=TAinterscetionB/Total\n",
    "PB=TB/Total\n",
    "PAB=PTAinterscetionB/PB\n",
    "PAB\n",
    "print(\"Proportion of patients who tested negative has cancer is: \",str(round(PAB,3)))"
   ]
  },
  {
   "cell_type": "code",
   "execution_count": 0,
   "metadata": {
    "colab": {},
    "colab_type": "code",
    "id": "gHxm4eZVvsJ7"
   },
   "outputs": [],
   "source": [
    "#Q5- What proportion of patients who tested negative doesn't have cancer?\n"
   ]
  },
  {
   "cell_type": "code",
   "execution_count": 49,
   "metadata": {},
   "outputs": [
    {
     "name": "stdout",
     "output_type": "stream",
     "text": [
      "Proportion of patients who tested negative doesn't have cancer is:  0.986\n"
     ]
    }
   ],
   "source": [
    "#Considering A= Patient who doesn't have Cancer and B= Patient who tested Negative\n",
    "TA=has_noCancer\n",
    "TB=test_negative\n",
    "Total=total_patient\n",
    "TAinterscetionB=df[(df[\"test_result\"] == \"Negative\") & (df[\"has_cancer\"] == False)].shape[0]\n",
    "PTAinterscetionB=TAinterscetionB/Total\n",
    "PB=TB/Total\n",
    "PAB=PTAinterscetionB/PB\n",
    "PAB\n",
    "print(\"Proportion of patients who tested negative doesn't have cancer is: \",str(round(PAB,3)))"
   ]
  },
  {
   "cell_type": "code",
   "execution_count": null,
   "metadata": {},
   "outputs": [],
   "source": []
  }
 ],
 "metadata": {
  "colab": {
   "collapsed_sections": [],
   "name": "Conditional_Probability_&_Bayes_Assingment_1.ipynb",
   "provenance": []
  },
  "kernelspec": {
   "display_name": "Python 3",
   "language": "python",
   "name": "python3"
  },
  "language_info": {
   "codemirror_mode": {
    "name": "ipython",
    "version": 3
   },
   "file_extension": ".py",
   "mimetype": "text/x-python",
   "name": "python",
   "nbconvert_exporter": "python",
   "pygments_lexer": "ipython3",
   "version": "3.7.4"
  }
 },
 "nbformat": 4,
 "nbformat_minor": 1
}
