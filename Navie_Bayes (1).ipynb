{
 "cells": [
  {
   "cell_type": "code",
   "execution_count": 3,
   "metadata": {},
   "outputs": [],
   "source": [
    "import numpy as np\n",
    "import pandas as pd"
   ]
  },
  {
   "cell_type": "code",
   "execution_count": 5,
   "metadata": {},
   "outputs": [
    {
     "data": {
      "text/html": [
       "<div>\n",
       "<style scoped>\n",
       "    .dataframe tbody tr th:only-of-type {\n",
       "        vertical-align: middle;\n",
       "    }\n",
       "\n",
       "    .dataframe tbody tr th {\n",
       "        vertical-align: top;\n",
       "    }\n",
       "\n",
       "    .dataframe thead th {\n",
       "        text-align: right;\n",
       "    }\n",
       "</style>\n",
       "<table border=\"1\" class=\"dataframe\">\n",
       "  <thead>\n",
       "    <tr style=\"text-align: right;\">\n",
       "      <th></th>\n",
       "      <th>opponent</th>\n",
       "      <th>venue</th>\n",
       "      <th>outlook</th>\n",
       "      <th>toss</th>\n",
       "      <th>result</th>\n",
       "    </tr>\n",
       "  </thead>\n",
       "  <tbody>\n",
       "    <tr>\n",
       "      <td>0</td>\n",
       "      <td>kkr</td>\n",
       "      <td>bangalore</td>\n",
       "      <td>overcast</td>\n",
       "      <td>lost</td>\n",
       "      <td>won</td>\n",
       "    </tr>\n",
       "    <tr>\n",
       "      <td>1</td>\n",
       "      <td>mi</td>\n",
       "      <td>mumbai</td>\n",
       "      <td>sunny</td>\n",
       "      <td>won</td>\n",
       "      <td>won</td>\n",
       "    </tr>\n",
       "    <tr>\n",
       "      <td>2</td>\n",
       "      <td>rcb</td>\n",
       "      <td>mumbai</td>\n",
       "      <td>overcast</td>\n",
       "      <td>won</td>\n",
       "      <td>won</td>\n",
       "    </tr>\n",
       "    <tr>\n",
       "      <td>3</td>\n",
       "      <td>kkr</td>\n",
       "      <td>bangalore</td>\n",
       "      <td>sunny</td>\n",
       "      <td>lost</td>\n",
       "      <td>won</td>\n",
       "    </tr>\n",
       "    <tr>\n",
       "      <td>4</td>\n",
       "      <td>kkr</td>\n",
       "      <td>bangalore</td>\n",
       "      <td>sunny</td>\n",
       "      <td>won</td>\n",
       "      <td>won</td>\n",
       "    </tr>\n",
       "    <tr>\n",
       "      <td>5</td>\n",
       "      <td>mi</td>\n",
       "      <td>chennai</td>\n",
       "      <td>sunny</td>\n",
       "      <td>won</td>\n",
       "      <td>lost</td>\n",
       "    </tr>\n",
       "    <tr>\n",
       "      <td>6</td>\n",
       "      <td>rcb</td>\n",
       "      <td>chennai</td>\n",
       "      <td>sunny</td>\n",
       "      <td>won</td>\n",
       "      <td>lost</td>\n",
       "    </tr>\n",
       "    <tr>\n",
       "      <td>7</td>\n",
       "      <td>kkr</td>\n",
       "      <td>chennai</td>\n",
       "      <td>overcast</td>\n",
       "      <td>won</td>\n",
       "      <td>won</td>\n",
       "    </tr>\n",
       "    <tr>\n",
       "      <td>8</td>\n",
       "      <td>rr</td>\n",
       "      <td>bangalore</td>\n",
       "      <td>sunny</td>\n",
       "      <td>lost</td>\n",
       "      <td>won</td>\n",
       "    </tr>\n",
       "    <tr>\n",
       "      <td>9</td>\n",
       "      <td>rcb</td>\n",
       "      <td>mumbai</td>\n",
       "      <td>overcast</td>\n",
       "      <td>won</td>\n",
       "      <td>won</td>\n",
       "    </tr>\n",
       "    <tr>\n",
       "      <td>10</td>\n",
       "      <td>kkr</td>\n",
       "      <td>chennai</td>\n",
       "      <td>sunny</td>\n",
       "      <td>won</td>\n",
       "      <td>won</td>\n",
       "    </tr>\n",
       "    <tr>\n",
       "      <td>11</td>\n",
       "      <td>rcb</td>\n",
       "      <td>bangalore</td>\n",
       "      <td>sunny</td>\n",
       "      <td>won</td>\n",
       "      <td>won</td>\n",
       "    </tr>\n",
       "    <tr>\n",
       "      <td>12</td>\n",
       "      <td>rr</td>\n",
       "      <td>chennai</td>\n",
       "      <td>overcast</td>\n",
       "      <td>won</td>\n",
       "      <td>won</td>\n",
       "    </tr>\n",
       "    <tr>\n",
       "      <td>13</td>\n",
       "      <td>kkr</td>\n",
       "      <td>chennai</td>\n",
       "      <td>overcast</td>\n",
       "      <td>won</td>\n",
       "      <td>won</td>\n",
       "    </tr>\n",
       "    <tr>\n",
       "      <td>14</td>\n",
       "      <td>kkr</td>\n",
       "      <td>bangalore</td>\n",
       "      <td>overcast</td>\n",
       "      <td>won</td>\n",
       "      <td>won</td>\n",
       "    </tr>\n",
       "    <tr>\n",
       "      <td>15</td>\n",
       "      <td>rcb</td>\n",
       "      <td>chennai</td>\n",
       "      <td>overcast</td>\n",
       "      <td>won</td>\n",
       "      <td>lost</td>\n",
       "    </tr>\n",
       "    <tr>\n",
       "      <td>16</td>\n",
       "      <td>kkr</td>\n",
       "      <td>bangalore</td>\n",
       "      <td>overcast</td>\n",
       "      <td>won</td>\n",
       "      <td>lost</td>\n",
       "    </tr>\n",
       "    <tr>\n",
       "      <td>17</td>\n",
       "      <td>mi</td>\n",
       "      <td>bangalore</td>\n",
       "      <td>sunny</td>\n",
       "      <td>won</td>\n",
       "      <td>lost</td>\n",
       "    </tr>\n",
       "    <tr>\n",
       "      <td>18</td>\n",
       "      <td>rcb</td>\n",
       "      <td>chennai</td>\n",
       "      <td>sunny</td>\n",
       "      <td>lost</td>\n",
       "      <td>won</td>\n",
       "    </tr>\n",
       "    <tr>\n",
       "      <td>19</td>\n",
       "      <td>mi</td>\n",
       "      <td>chennai</td>\n",
       "      <td>overcast</td>\n",
       "      <td>won</td>\n",
       "      <td>lost</td>\n",
       "    </tr>\n",
       "    <tr>\n",
       "      <td>20</td>\n",
       "      <td>kkr</td>\n",
       "      <td>bangalore</td>\n",
       "      <td>sunny</td>\n",
       "      <td>lost</td>\n",
       "      <td>won</td>\n",
       "    </tr>\n",
       "    <tr>\n",
       "      <td>21</td>\n",
       "      <td>rcb</td>\n",
       "      <td>bangalore</td>\n",
       "      <td>sunny</td>\n",
       "      <td>won</td>\n",
       "      <td>lost</td>\n",
       "    </tr>\n",
       "    <tr>\n",
       "      <td>22</td>\n",
       "      <td>rr</td>\n",
       "      <td>bangalore</td>\n",
       "      <td>overcast</td>\n",
       "      <td>won</td>\n",
       "      <td>won</td>\n",
       "    </tr>\n",
       "    <tr>\n",
       "      <td>23</td>\n",
       "      <td>kkr</td>\n",
       "      <td>mumbai</td>\n",
       "      <td>sunny</td>\n",
       "      <td>won</td>\n",
       "      <td>lost</td>\n",
       "    </tr>\n",
       "    <tr>\n",
       "      <td>24</td>\n",
       "      <td>rr</td>\n",
       "      <td>chennai</td>\n",
       "      <td>overcast</td>\n",
       "      <td>lost</td>\n",
       "      <td>won</td>\n",
       "    </tr>\n",
       "  </tbody>\n",
       "</table>\n",
       "</div>"
      ],
      "text/plain": [
       "   opponent      venue   outlook  toss result\n",
       "0       kkr  bangalore  overcast  lost    won\n",
       "1        mi     mumbai     sunny   won    won\n",
       "2       rcb     mumbai  overcast   won    won\n",
       "3       kkr  bangalore     sunny  lost    won\n",
       "4       kkr  bangalore     sunny   won    won\n",
       "5        mi    chennai     sunny   won   lost\n",
       "6       rcb    chennai     sunny   won   lost\n",
       "7       kkr    chennai  overcast   won    won\n",
       "8        rr  bangalore     sunny  lost    won\n",
       "9       rcb     mumbai  overcast   won    won\n",
       "10      kkr    chennai     sunny   won    won\n",
       "11      rcb  bangalore     sunny   won    won\n",
       "12       rr    chennai  overcast   won    won\n",
       "13      kkr    chennai  overcast   won    won\n",
       "14      kkr  bangalore  overcast   won    won\n",
       "15      rcb    chennai  overcast   won   lost\n",
       "16      kkr  bangalore  overcast   won   lost\n",
       "17       mi  bangalore     sunny   won   lost\n",
       "18      rcb    chennai     sunny  lost    won\n",
       "19       mi    chennai  overcast   won   lost\n",
       "20      kkr  bangalore     sunny  lost    won\n",
       "21      rcb  bangalore     sunny   won   lost\n",
       "22       rr  bangalore  overcast   won    won\n",
       "23      kkr     mumbai     sunny   won   lost\n",
       "24       rr    chennai  overcast  lost    won"
      ]
     },
     "execution_count": 5,
     "metadata": {},
     "output_type": "execute_result"
    }
   ],
   "source": [
    "df=pd.read_csv(r\"C:\\Users\\Gazal\\Downloads\\toy - toy.csv\")\n",
    "df"
   ]
  },
  {
   "cell_type": "code",
   "execution_count": 8,
   "metadata": {},
   "outputs": [
    {
     "data": {
      "text/plain": [
       "25"
      ]
     },
     "execution_count": 8,
     "metadata": {},
     "output_type": "execute_result"
    }
   ],
   "source": [
    "df.shape[0]"
   ]
  },
  {
   "cell_type": "code",
   "execution_count": 7,
   "metadata": {},
   "outputs": [
    {
     "data": {
      "text/plain": [
       "won     17\n",
       "lost     8\n",
       "Name: result, dtype: int64"
      ]
     },
     "execution_count": 7,
     "metadata": {},
     "output_type": "execute_result"
    }
   ],
   "source": [
    "df['result'].value_counts()"
   ]
  },
  {
   "cell_type": "code",
   "execution_count": 10,
   "metadata": {},
   "outputs": [
    {
     "name": "stdout",
     "output_type": "stream",
     "text": [
      "Probablity of winning is: 0.68\n",
      "Probablity of loosing is: 0.32\n"
     ]
    }
   ],
   "source": [
    "pwon=17/25\n",
    "plost=8/25\n",
    "print(\"Probablity of winning is:\",pwon)\n",
    "print(\"Probablity of loosing is:\",plost)\n"
   ]
  },
  {
   "cell_type": "code",
   "execution_count": 11,
   "metadata": {},
   "outputs": [
    {
     "data": {
      "text/html": [
       "<div>\n",
       "<style scoped>\n",
       "    .dataframe tbody tr th:only-of-type {\n",
       "        vertical-align: middle;\n",
       "    }\n",
       "\n",
       "    .dataframe tbody tr th {\n",
       "        vertical-align: top;\n",
       "    }\n",
       "\n",
       "    .dataframe thead th {\n",
       "        text-align: right;\n",
       "    }\n",
       "</style>\n",
       "<table border=\"1\" class=\"dataframe\">\n",
       "  <thead>\n",
       "    <tr style=\"text-align: right;\">\n",
       "      <th>result</th>\n",
       "      <th>lost</th>\n",
       "      <th>won</th>\n",
       "    </tr>\n",
       "    <tr>\n",
       "      <th>opponent</th>\n",
       "      <th></th>\n",
       "      <th></th>\n",
       "    </tr>\n",
       "  </thead>\n",
       "  <tbody>\n",
       "    <tr>\n",
       "      <td>kkr</td>\n",
       "      <td>2</td>\n",
       "      <td>8</td>\n",
       "    </tr>\n",
       "    <tr>\n",
       "      <td>mi</td>\n",
       "      <td>3</td>\n",
       "      <td>1</td>\n",
       "    </tr>\n",
       "    <tr>\n",
       "      <td>rcb</td>\n",
       "      <td>3</td>\n",
       "      <td>4</td>\n",
       "    </tr>\n",
       "    <tr>\n",
       "      <td>rr</td>\n",
       "      <td>0</td>\n",
       "      <td>4</td>\n",
       "    </tr>\n",
       "  </tbody>\n",
       "</table>\n",
       "</div>"
      ],
      "text/plain": [
       "result    lost  won\n",
       "opponent           \n",
       "kkr          2    8\n",
       "mi           3    1\n",
       "rcb          3    4\n",
       "rr           0    4"
      ]
     },
     "execution_count": 11,
     "metadata": {},
     "output_type": "execute_result"
    }
   ],
   "source": [
    "#Opponents look-up table\n",
    "pd.crosstab(df['opponent'],df['result'])"
   ]
  },
  {
   "cell_type": "code",
   "execution_count": 21,
   "metadata": {},
   "outputs": [],
   "source": [
    "#Probablity for each opponents in both the result(win,lost)\n",
    "pkkrlost=2/8\n",
    "pmilost=3/8\n",
    "prcblost=3/8\n",
    "prrlost=0\n",
    "\n",
    "pkkrwon=8/17\n",
    "pmiwon=1/17\n",
    "prcbwon=4/17\n",
    "prrwon=4/17\n",
    "\n"
   ]
  },
  {
   "cell_type": "code",
   "execution_count": 22,
   "metadata": {},
   "outputs": [
    {
     "data": {
      "text/html": [
       "<div>\n",
       "<style scoped>\n",
       "    .dataframe tbody tr th:only-of-type {\n",
       "        vertical-align: middle;\n",
       "    }\n",
       "\n",
       "    .dataframe tbody tr th {\n",
       "        vertical-align: top;\n",
       "    }\n",
       "\n",
       "    .dataframe thead th {\n",
       "        text-align: right;\n",
       "    }\n",
       "</style>\n",
       "<table border=\"1\" class=\"dataframe\">\n",
       "  <thead>\n",
       "    <tr style=\"text-align: right;\">\n",
       "      <th>result</th>\n",
       "      <th>lost</th>\n",
       "      <th>won</th>\n",
       "    </tr>\n",
       "    <tr>\n",
       "      <th>venue</th>\n",
       "      <th></th>\n",
       "      <th></th>\n",
       "    </tr>\n",
       "  </thead>\n",
       "  <tbody>\n",
       "    <tr>\n",
       "      <td>bangalore</td>\n",
       "      <td>3</td>\n",
       "      <td>8</td>\n",
       "    </tr>\n",
       "    <tr>\n",
       "      <td>chennai</td>\n",
       "      <td>4</td>\n",
       "      <td>6</td>\n",
       "    </tr>\n",
       "    <tr>\n",
       "      <td>mumbai</td>\n",
       "      <td>1</td>\n",
       "      <td>3</td>\n",
       "    </tr>\n",
       "  </tbody>\n",
       "</table>\n",
       "</div>"
      ],
      "text/plain": [
       "result     lost  won\n",
       "venue               \n",
       "bangalore     3    8\n",
       "chennai       4    6\n",
       "mumbai        1    3"
      ]
     },
     "execution_count": 22,
     "metadata": {},
     "output_type": "execute_result"
    }
   ],
   "source": [
    "#venue look-up table\n",
    "pd.crosstab(df['venue'],df['result'])"
   ]
  },
  {
   "cell_type": "code",
   "execution_count": 23,
   "metadata": {},
   "outputs": [],
   "source": [
    "#Probablity for each venue in both the result(win,lost)\n",
    "pbanglost=3/8\n",
    "pchenlost=4/8\n",
    "pmumlost=1/8\n",
    "\n",
    "pbangwon=8/17\n",
    "pchenwon=6/17\n",
    "pmumwon=3/17\n",
    "\n"
   ]
  },
  {
   "cell_type": "code",
   "execution_count": 24,
   "metadata": {},
   "outputs": [
    {
     "data": {
      "text/html": [
       "<div>\n",
       "<style scoped>\n",
       "    .dataframe tbody tr th:only-of-type {\n",
       "        vertical-align: middle;\n",
       "    }\n",
       "\n",
       "    .dataframe tbody tr th {\n",
       "        vertical-align: top;\n",
       "    }\n",
       "\n",
       "    .dataframe thead th {\n",
       "        text-align: right;\n",
       "    }\n",
       "</style>\n",
       "<table border=\"1\" class=\"dataframe\">\n",
       "  <thead>\n",
       "    <tr style=\"text-align: right;\">\n",
       "      <th>result</th>\n",
       "      <th>lost</th>\n",
       "      <th>won</th>\n",
       "    </tr>\n",
       "    <tr>\n",
       "      <th>outlook</th>\n",
       "      <th></th>\n",
       "      <th></th>\n",
       "    </tr>\n",
       "  </thead>\n",
       "  <tbody>\n",
       "    <tr>\n",
       "      <td>overcast</td>\n",
       "      <td>3</td>\n",
       "      <td>9</td>\n",
       "    </tr>\n",
       "    <tr>\n",
       "      <td>sunny</td>\n",
       "      <td>5</td>\n",
       "      <td>8</td>\n",
       "    </tr>\n",
       "  </tbody>\n",
       "</table>\n",
       "</div>"
      ],
      "text/plain": [
       "result    lost  won\n",
       "outlook            \n",
       "overcast     3    9\n",
       "sunny        5    8"
      ]
     },
     "execution_count": 24,
     "metadata": {},
     "output_type": "execute_result"
    }
   ],
   "source": [
    "#outlook look-up table\n",
    "pd.crosstab(df['outlook'],df['result'])"
   ]
  },
  {
   "cell_type": "code",
   "execution_count": 25,
   "metadata": {},
   "outputs": [],
   "source": [
    "#Probablity for each outlook in both the result(win,lost)\n",
    "poverlost=3/8\n",
    "psunnylost=5/8\n",
    "\n",
    "\n",
    "poverwon=9/17\n",
    "psunnywon=8/17\n",
    "\n"
   ]
  },
  {
   "cell_type": "code",
   "execution_count": 26,
   "metadata": {},
   "outputs": [
    {
     "data": {
      "text/html": [
       "<div>\n",
       "<style scoped>\n",
       "    .dataframe tbody tr th:only-of-type {\n",
       "        vertical-align: middle;\n",
       "    }\n",
       "\n",
       "    .dataframe tbody tr th {\n",
       "        vertical-align: top;\n",
       "    }\n",
       "\n",
       "    .dataframe thead th {\n",
       "        text-align: right;\n",
       "    }\n",
       "</style>\n",
       "<table border=\"1\" class=\"dataframe\">\n",
       "  <thead>\n",
       "    <tr style=\"text-align: right;\">\n",
       "      <th>result</th>\n",
       "      <th>lost</th>\n",
       "      <th>won</th>\n",
       "    </tr>\n",
       "    <tr>\n",
       "      <th>toss</th>\n",
       "      <th></th>\n",
       "      <th></th>\n",
       "    </tr>\n",
       "  </thead>\n",
       "  <tbody>\n",
       "    <tr>\n",
       "      <td>lost</td>\n",
       "      <td>0</td>\n",
       "      <td>6</td>\n",
       "    </tr>\n",
       "    <tr>\n",
       "      <td>won</td>\n",
       "      <td>8</td>\n",
       "      <td>11</td>\n",
       "    </tr>\n",
       "  </tbody>\n",
       "</table>\n",
       "</div>"
      ],
      "text/plain": [
       "result  lost  won\n",
       "toss             \n",
       "lost       0    6\n",
       "won        8   11"
      ]
     },
     "execution_count": 26,
     "metadata": {},
     "output_type": "execute_result"
    }
   ],
   "source": [
    "#toss look-up table\n",
    "pd.crosstab(df['toss'],df['result'])"
   ]
  },
  {
   "cell_type": "code",
   "execution_count": 35,
   "metadata": {},
   "outputs": [],
   "source": [
    "#Probablity for each toss in both the result(win,lost)\n",
    "ptllost=0\n",
    "ptwlost=8/8\n",
    "\n",
    "\n",
    "ptlwon=6/17\n",
    "ptwwon=11/17\n"
   ]
  },
  {
   "cell_type": "code",
   "execution_count": 36,
   "metadata": {},
   "outputs": [
    {
     "name": "stdout",
     "output_type": "stream",
     "text": [
      "Probability of won under the given condition opponent=kkr,venue=chennai,overlook=overcast,toss=lost  0.021103195603500918\n"
     ]
    }
   ],
   "source": [
    "pw=pwon*pkkrwon*pchenwon*poverwon*ptlwon\n",
    "print(\"Probability of won under the given condition opponent=kkr,venue=chennai,overlook=overcast,toss=lost \",pw)"
   ]
  },
  {
   "cell_type": "code",
   "execution_count": 38,
   "metadata": {},
   "outputs": [
    {
     "name": "stdout",
     "output_type": "stream",
     "text": [
      "Probability of won under the given condition opponent=kkr,venue=chennai,overlook=overcast,toss=lost  0.0\n"
     ]
    }
   ],
   "source": [
    "pl=plost*pkkrlost*pchenlost*poverlost*ptllost\n",
    "print(\"Probability of won under the given condition opponent=kkr,venue=chennai,overlook=overcast,toss=lost \",pl)"
   ]
  },
  {
   "cell_type": "code",
   "execution_count": null,
   "metadata": {},
   "outputs": [],
   "source": [
    "# So by comparing we see that probablity of winning the match is more than lossing the match so we can conclude that there is more probability of winning the match than loosing. "
   ]
  }
 ],
 "metadata": {
  "kernelspec": {
   "display_name": "Python 3",
   "language": "python",
   "name": "python3"
  },
  "language_info": {
   "codemirror_mode": {
    "name": "ipython",
    "version": 3
   },
   "file_extension": ".py",
   "mimetype": "text/x-python",
   "name": "python",
   "nbconvert_exporter": "python",
   "pygments_lexer": "ipython3",
   "version": "3.7.4"
  }
 },
 "nbformat": 4,
 "nbformat_minor": 2
}
